{
 "cells": [
  {
   "cell_type": "code",
   "execution_count": 1,
   "metadata": {},
   "outputs": [
    {
     "name": "stdout",
     "output_type": "stream",
     "text": [
      "986122321\n"
     ]
    }
   ],
   "source": [
    "# Question 1\n",
    "\n",
    "from random import randrange, getrandbits\n",
    "def is_prime(n, k=10^20):\n",
    "    \"\"\" Test if a number is prime\n",
    "        Args:\n",
    "            n -- int -- the number to test\n",
    "            k -- int -- the number of tests to do\n",
    "        return True if n is prime\n",
    "    \"\"\"\n",
    "    # Test if n is not even.\n",
    "    # But care, 2 is prime !\n",
    "    if n == 2 or n == 3:\n",
    "        return True\n",
    "    if n <= 1 or n % 2 == 0:\n",
    "        return False\n",
    "    # find r and s\n",
    "    s = 0\n",
    "    r = n - 1\n",
    "    while r & 1 == 0:\n",
    "        s += 1\n",
    "        r //= 2\n",
    "    # do k tests\n",
    "    for _ in range(k):\n",
    "        a = randrange(2, n - 1)\n",
    "        x = pow(a, r, n)\n",
    "        if x != 1 and x != n - 1:\n",
    "            j = 1\n",
    "            while j < s and x != n - 1:\n",
    "                x = pow(x, 2, n)\n",
    "                if x == 1:\n",
    "                    return False\n",
    "                j += 1\n",
    "            if x != n - 1:\n",
    "                return False\n",
    "    return True\n",
    "def generate_prime_candidate(length):\n",
    "    \"\"\" Generate an odd integer randomly\n",
    "        Args:\n",
    "            length -- int -- the length of the number to generate, in bits\n",
    "        return a integer\n",
    "    \"\"\"\n",
    "    # generate random bits\n",
    "    p = getrandbits(length)\n",
    "    # apply a mask to set MSB and LSB to 1\n",
    "    p |= (1 << length - 1) | 1\n",
    "    return p\n",
    "def generate_prime_number(length=(10^20)):\n",
    "    \"\"\" Generate a prime\n",
    "        Args:\n",
    "            length -- int -- length of the prime to generate, in          bits\n",
    "        return a prime\n",
    "    \"\"\"\n",
    "    p = 100000000000000000000\n",
    "       \n",
    "    # keep generating while the primality test fail\n",
    "    while not is_prime(p, 10^20):\n",
    "        p = generate_prime_candidate(length)\n",
    "    return p\n",
    "print(generate_prime_number())\n"
   ]
  },
  {
   "cell_type": "code",
   "execution_count": 2,
   "metadata": {},
   "outputs": [
    {
     "name": "stdout",
     "output_type": "stream",
     "text": [
      "3420\n"
     ]
    },
    {
     "name": "stderr",
     "output_type": "stream",
     "text": [
      "C:\\Users\\Akshaya\\anaconda3\\lib\\site-packages\\ipykernel_launcher.py:22: DeprecationWarning: time.clock has been deprecated in Python 3.3 and will be removed from Python 3.8: use time.perf_counter or time.process_time instead\n"
     ]
    },
    {
     "name": "stdout",
     "output_type": "stream",
     "text": [
      "203 [1247777777, 1277777771, 1277777773, 1457777777, 1487777777, 1577777771, 1577777777, 1657777777, 1777777741, 1777777751, 1777777777, 1787777777, 1877777773, 1877777777, 1877777779, 1927777777, 1957777777, 2017777777, 2027777777, 2077777771, 2377777771, 2437777777, 2467777777, 2507777777, 2567777777, 2647777777, 2677777771, 2777777707, 2777777711, 2777777719, 2777777741, 2777777759, 2777777777, 2777777797, 2917777777, 3037777777, 3077777777, 3137777777, 3197777777, 3247777777, 3257777777, 3377777773, 3377777779, 3407777777, 3427777777, 3527777777, 3557777777, 3577777771, 3777777701, 3777777767, 3777777793, 3827777777, 3937777777, 3977777773, 3977777777, 4027777777, 4097777777, 4177777771, 4277777773, 4297777777, 4307777777, 4327777777, 4447777777, 4567777777, 4687777777, 4747777777, 4777777703, 4777777717, 4777777727, 4777777729, 4777777759, 4777777769, 4777777789, 4777777793, 4777777799, 4867777777, 4937777777, 4997777777, 5177777777, 5237777777, 5387777777, 5477777777, 5527777777, 5567777777, 5617777777, 5627777777, 5647777777, 5777777701, 5777777771, 5777777791, 5877777779, 6037777777, 6077777773, 6077777777, 6177777773, 6277777777, 6317777777, 6577777771, 6577777777, 6637777777, 6757777777, 6767777777, 6777777731, 6777777737, 6777777757, 6777777791, 6847777777, 6857777777, 6947777777, 6977777771, 6977777773, 7037777777, 7087777777, 7327777777, 7387777777, 7487777777, 7537777777, 7547777777, 7597777777, 7607777777, 7727777777, 7777777019, 7777777027, 7777777057, 7777777069, 7777777081, 7777777103, 7777777127, 7777777169, 7777777199, 7777777207, 7777777211, 7777777229, 7777777237, 7777777261, 7777777327, 7777777361, 7777777369, 7777777379, 7777777391, 7777777421, 7777777429, 7777777453, 7777777493, 7777777517, 7777777549, 7777777577, 7777777597, 7777777633, 7777777639, 7777777649, 7777777663, 7777777669, 7777777691, 7777777703, 7777777741, 7777777781, 7777777783, 7777777789, 7777777823, 7777777849, 7777777853, 7777777871, 7777777937, 7777777963, 7777777993, 7837777777, 7957777777, 8087777777, 8117777777, 8227777777, 8277777773, 8347777777, 8387777777, 8477777771, 8577777773, 8627777777, 8737777777, 8777777713, 8777777717, 8777777759, 8777777777, 8807777777, 8947777777, 8977777777, 9067777777, 9137777777, 9177777773, 9197777777, 9257777777, 9467777777, 9477777773, 9477777779, 9547777777, 9617777777, 9677777771, 9777777767, 9777777787, 9777777799, 9817777777, 9887777777, 9937777777, 9977777773]\n",
      "8.694990500000001\n"
     ]
    },
    {
     "name": "stderr",
     "output_type": "stream",
     "text": [
      "C:\\Users\\Akshaya\\anaconda3\\lib\\site-packages\\ipykernel_launcher.py:25: DeprecationWarning: time.clock has been deprecated in Python 3.3 and will be removed from Python 3.8: use time.perf_counter or time.process_time instead\n"
     ]
    }
   ],
   "source": [
    "import time\n",
    "\n",
    "def GeneratingTable():\n",
    "    A = {v for i in range (1,10) for j in range (0,10) for k in range (0,10)\n",
    "         for v in [i*1000000000+j*100000000+k*10000000+7777777,i*1000000000+j*100000000+77777770+k,i*1000000000+777777700+10*j+k,7777777000+i*100+j*10+k,7777777000+j*10+k]}\n",
    "    print(len(A))\n",
    "    return A\n",
    "\n",
    "\n",
    "def ifPrime(n):\n",
    "    i = 2\n",
    "    while i * i <= n:\n",
    "        if n%i == 0:\n",
    "            return False\n",
    "        i += 1\n",
    "    return True\n",
    "\n",
    "def check():\n",
    "    return sorted([p for p in GeneratingTable() if ifPrime(p)])\n",
    "\n",
    "\n",
    "start = time.clock()\n",
    "x = check()\n",
    "print(len(x),x)\n",
    "end = time.clock()\n",
    "time = end - start\n",
    "print(time)"
   ]
  },
  {
   "cell_type": "code",
   "execution_count": 3,
   "metadata": {},
   "outputs": [
    {
     "name": "stdout",
     "output_type": "stream",
     "text": [
      "[3, 5, 6, 7, 10, 11, 12, 14]\n"
     ]
    }
   ],
   "source": [
    "# Question 2\n",
    "\n",
    "def gcd(a,b):\n",
    "    while b != 0:\n",
    "        a, b = b, a % b\n",
    "    return a\n",
    "\n",
    "def primRoots(modulo):\n",
    "    roots = []\n",
    "    required_set = set(num for num in range (1, modulo) if gcd(num, modulo) == 1)\n",
    "\n",
    "    for g in range(1, modulo):\n",
    "        actual_set = set(pow(g, powers) % modulo for powers in range (1, modulo))\n",
    "        if required_set == actual_set:\n",
    "            roots.append(g)           \n",
    "    return roots\n",
    "\n",
    "if __name__ == \"__main__\":\n",
    "    p = 17\n",
    "    primitive_roots = primRoots(p)\n",
    "    print(primitive_roots)"
   ]
  },
  {
   "cell_type": "code",
   "execution_count": 4,
   "metadata": {},
   "outputs": [
    {
     "name": "stdout",
     "output_type": "stream",
     "text": [
      "g:  9  (a shared value), n:  1001  (a prime number)\n",
      "\n",
      "Alice calculates:\n",
      "a (Alice random):  6\n",
      "Alice value (A):  911  (g^a) mod p\n",
      "\n",
      "Bob calculates:\n",
      "b (Bob random):  17\n",
      "Bob value (B):  81  (g^b) mod p\n",
      "\n",
      "Alice calculates:\n",
      "Key:  92  (B^a) mod p\n",
      "Key:  8241649609f88ccd2a0a5b233a07a538ec313ff6adf695aa44a969dbca39f67d\n",
      "\n",
      "Bob calculates:\n",
      "Key:  92  (A^b) mod p\n",
      "Key:  8241649609f88ccd2a0a5b233a07a538ec313ff6adf695aa44a969dbca39f67d\n"
     ]
    }
   ],
   "source": [
    "# Question 3\n",
    "# Diffie-Hellman Algorithm\n",
    "\n",
    "import random\n",
    "import hashlib\n",
    "import sys\n",
    "\n",
    "g=9\n",
    "p=1001\n",
    "\n",
    "a=random.randint(5, 10)\n",
    "\n",
    "b=random.randint(10,20)\n",
    "\n",
    "A = (g**a) % p\n",
    "B = (g**b) % p\n",
    "\n",
    "print('g: ',g,' (a shared value), n: ',p, ' (a prime number)')\n",
    "\n",
    "print('\\nAlice calculates:')\n",
    "print('a (Alice random): ',a)\n",
    "print('Alice value (A): ',A,' (g^a) mod p')\n",
    "\n",
    "print('\\nBob calculates:')\n",
    "print('b (Bob random): ',b)\n",
    "print('Bob value (B): ',B,' (g^b) mod p')\n",
    "\n",
    "print('\\nAlice calculates:')\n",
    "keyA=(B**a) % p\n",
    "print('Key: ',keyA,' (B^a) mod p')\n",
    "print('Key: ',hashlib.sha256(str(keyA).encode()).hexdigest())\n",
    "\n",
    "print('\\nBob calculates:')\n",
    "keyB=(A**b) % p\n",
    "print('Key: ',keyB,' (A^b) mod p')\n",
    "print('Key: ',hashlib.sha256(str(keyB).encode()).hexdigest())"
   ]
  },
  {
   "cell_type": "code",
   "execution_count": 5,
   "metadata": {},
   "outputs": [
    {
     "name": "stdout",
     "output_type": "stream",
     "text": [
      "3\n",
      "-1\n"
     ]
    }
   ],
   "source": [
    "# Question 4\n",
    "# Discrete logarithm\n",
    "\n",
    "import math; \n",
    "\n",
    "# Iterative Function to calculate \n",
    "# (x ^ y)%p in O(log y) \n",
    "def powmod(x, y, p): \n",
    "\n",
    "\tres = 1; \n",
    "\n",
    "\tx = x % p; # Update x if it is more \n",
    "\t\t\t# than or equal to p \n",
    "\n",
    "\twhile (y > 0): \n",
    "\t\t\n",
    "\t\t# If y is odd, multiply x with result \n",
    "\t\tif (y & 1): \n",
    "\t\t\tres = (res * x) % p; \n",
    "\n",
    "\t\t# y must be even now \n",
    "\t\ty = y >> 1; # y = y/2 \n",
    "\t\tx = (x * x) % p; \n",
    "\treturn res; \n",
    "\n",
    "# Function to calculate k for given a, b, m \n",
    "def discreteLogarithm(a, b, m): \n",
    "\tn = int(math.sqrt(m) + 1); \n",
    "\n",
    "\tvalue = [0] * m; \n",
    "\n",
    "\t# Store all values of a^(n*i) of LHS \n",
    "\tfor i in range(n, 0, -1): \n",
    "\t\tvalue[ powmod (a, i * n, m) ] = i; \n",
    "\n",
    "\tfor j in range(n): \n",
    "\t\t\n",
    "\t\t# Calculate (a ^ j) * b and check \n",
    "\t\t# for collision \n",
    "\t\tcur = (powmod (a, j, m) * b) % m; \n",
    "\n",
    "\t\t# If collision occurs i.e., LHS = RHS \n",
    "\t\tif (value[cur]): \n",
    "\t\t\tans = value[cur] * n - j; \n",
    "\t\t\t\n",
    "\t\t\t# Check whether ans lies below m or not \n",
    "\t\t\tif (ans < m): \n",
    "\t\t\t\treturn ans; \n",
    "\t\n",
    "\treturn -1; \n",
    "\n",
    "# Driver code \n",
    "a = 2; \n",
    "b = 3; \n",
    "m = 5; \n",
    "print(discreteLogarithm(a, b, m)); \n",
    "\n",
    "a = 3; \n",
    "b = 7; \n",
    "m = 11; \n",
    "print(discreteLogarithm(a, b, m)); \n"
   ]
  },
  {
   "cell_type": "code",
   "execution_count": 6,
   "metadata": {},
   "outputs": [
    {
     "name": "stdout",
     "output_type": "stream",
     "text": [
      "Enter the value of p = 23\n",
      "Enter the value of q = 9\n",
      "Enter the value of text = 9\n",
      "n = 207 e = 3 t = 176 d = 59 cipher text = 108 decrypted text = 9\n"
     ]
    }
   ],
   "source": [
    "# Question 5\n",
    "\n",
    "from decimal import Decimal \n",
    "  \n",
    "def gcd(a,b): \n",
    "    if b==0: \n",
    "        return a \n",
    "    else: \n",
    "        return gcd(b,a%b) \n",
    "p = int(input('Enter the value of p = ')) \n",
    "q = int(input('Enter the value of q = ')) \n",
    "no = int(input('Enter the value of text = ')) \n",
    "n = p*q \n",
    "t = (p-1)*(q-1) \n",
    "  \n",
    "for e in range(2,t): \n",
    "    if gcd(e,t)== 1: \n",
    "        break\n",
    "  \n",
    "  \n",
    "for i in range(1,10): \n",
    "    x = 1 + i*t \n",
    "    if x % e == 0: \n",
    "        d = int(x/e) \n",
    "        break\n",
    "ctt = Decimal(0) \n",
    "ctt =pow(no,e) \n",
    "ct = ctt % n \n",
    "  \n",
    "dtt = Decimal(0) \n",
    "dtt = pow(ct,d) \n",
    "dt = dtt % n \n",
    "  \n",
    "print('n = '+str(n)+' e = '+str(e)+' t = '+str(t)+' d = '+str(d)+' cipher text = '+str(ct)+' decrypted text = '+str(dt)) "
   ]
  },
  {
   "cell_type": "code",
   "execution_count": 7,
   "metadata": {},
   "outputs": [
    {
     "name": "stdout",
     "output_type": "stream",
     "text": [
      "Enter the value of p = 23\n",
      "Enter the value of q = 9\n",
      "Enter the value of text = 14\n",
      "n = 207 e = 3 t = 176 d = 59 cipher text = 53 decrypted text = 152\n"
     ]
    }
   ],
   "source": [
    "from decimal import Decimal \n",
    "  \n",
    "def gcd(a,b): \n",
    "    if b==0: \n",
    "        return a \n",
    "    else: \n",
    "        return gcd(b,a%b) \n",
    "p = int(input('Enter the value of p = ')) \n",
    "q = int(input('Enter the value of q = ')) \n",
    "no = int(input('Enter the value of text = ')) \n",
    "n = p*q \n",
    "t = (p-1)*(q-1) \n",
    "  \n",
    "for e in range(2,t): \n",
    "    if gcd(e,t)== 1: \n",
    "        break\n",
    "  \n",
    "  \n",
    "for i in range(1,10): \n",
    "    x = 1 + i*t \n",
    "    if x % e == 0: \n",
    "        d = int(x/e) \n",
    "        break\n",
    "ctt = Decimal(0) \n",
    "ctt =pow(no,e) \n",
    "ct = ctt % n \n",
    "  \n",
    "dtt = Decimal(0) \n",
    "dtt = pow(ct,d) \n",
    "dt = dtt % n \n",
    "  \n",
    "print('n = '+str(n)+' e = '+str(e)+' t = '+str(t)+' d = '+str(d)+' cipher text = '+str(ct)+' decrypted text = '+str(dt)) "
   ]
  },
  {
   "cell_type": "code",
   "execution_count": 8,
   "metadata": {},
   "outputs": [
    {
     "name": "stdout",
     "output_type": "stream",
     "text": [
      "Enter the value of p = 23\n",
      "Enter the value of q = 9\n",
      "Enter the value of text = 19\n",
      "n = 207 e = 3 t = 176 d = 59 cipher text = 28 decrypted text = 19\n"
     ]
    }
   ],
   "source": [
    "from decimal import Decimal \n",
    "  \n",
    "def gcd(a,b): \n",
    "    if b==0: \n",
    "        return a \n",
    "    else: \n",
    "        return gcd(b,a%b) \n",
    "p = int(input('Enter the value of p = ')) \n",
    "q = int(input('Enter the value of q = ')) \n",
    "no = int(input('Enter the value of text = ')) \n",
    "n = p*q \n",
    "t = (p-1)*(q-1) \n",
    "  \n",
    "for e in range(2,t): \n",
    "    if gcd(e,t)== 1: \n",
    "        break\n",
    "  \n",
    "  \n",
    "for i in range(1,10): \n",
    "    x = 1 + i*t \n",
    "    if x % e == 0: \n",
    "        d = int(x/e) \n",
    "        break\n",
    "ctt = Decimal(0) \n",
    "ctt =pow(no,e) \n",
    "ct = ctt % n \n",
    "  \n",
    "dtt = Decimal(0) \n",
    "dtt = pow(ct,d) \n",
    "dt = dtt % n \n",
    "  \n",
    "print('n = '+str(n)+' e = '+str(e)+' t = '+str(t)+' d = '+str(d)+' cipher text = '+str(ct)+' decrypted text = '+str(dt)) "
   ]
  },
  {
   "cell_type": "code",
   "execution_count": null,
   "metadata": {},
   "outputs": [],
   "source": []
  },
  {
   "cell_type": "code",
   "execution_count": null,
   "metadata": {},
   "outputs": [],
   "source": []
  },
  {
   "cell_type": "code",
   "execution_count": null,
   "metadata": {},
   "outputs": [],
   "source": []
  }
 ],
 "metadata": {
  "kernelspec": {
   "display_name": "Python 3",
   "language": "python",
   "name": "python3"
  },
  "language_info": {
   "codemirror_mode": {
    "name": "ipython",
    "version": 3
   },
   "file_extension": ".py",
   "mimetype": "text/x-python",
   "name": "python",
   "nbconvert_exporter": "python",
   "pygments_lexer": "ipython3",
   "version": "3.7.6"
  }
 },
 "nbformat": 4,
 "nbformat_minor": 4
}
