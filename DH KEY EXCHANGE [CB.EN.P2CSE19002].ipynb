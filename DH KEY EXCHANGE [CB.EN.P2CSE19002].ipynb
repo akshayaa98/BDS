{
 "cells": [
  {
   "cell_type": "code",
   "execution_count": 1,
   "metadata": {},
   "outputs": [
    {
     "name": "stdout",
     "output_type": "stream",
     "text": [
      "Total prime numbers in range: 5761455\n",
      "largest prime 99999271\n",
      "Time required: 48.47374129295349\n"
     ]
    }
   ],
   "source": [
    "# Question 1\n",
    "\n",
    "import time \n",
    "def SieveOfEratosthenes(n):  \n",
    "    prime = [True for i in range(n+1)] \n",
    "    p = 2\n",
    "    while(p * p <= n): \n",
    "        if (prime[p] == True): \n",
    "            for i in range(p * p, n + 1, p): \n",
    "                prime[i] = False\n",
    "        p += 1\n",
    "        c = 0\n",
    "    for p in range(2, n): \n",
    "        if prime[p]: \n",
    "            c += 1\n",
    "    return c,i \n",
    "t0 = time.time() \n",
    "c,i = SieveOfEratosthenes(100000000) \n",
    "print(\"Total prime numbers in range:\", c )\n",
    "print(\"largest prime\", i)\n",
    "t1 = time.time() \n",
    "print(\"Time required:\", t1 - t0)\n"
   ]
  },
  {
   "cell_type": "code",
   "execution_count": 8,
   "metadata": {},
   "outputs": [
    {
     "name": "stdout",
     "output_type": "stream",
     "text": [
      "[2, 6, 7, 8, 10, 13, 18, 21, 22, 24, 28, 30, 32, 34, 35, 37, 38, 39, 40, 41, 46, 47, 50, 52, 53, 54, 58, 59, 61, 62, 63, 65, 66, 67, 71, 72, 77, 83, 84, 86, 88, 90, 96, 98, 102, 103, 105, 107, 110, 111, 112, 114, 117, 119, 120, 123, 128, 131, 133, 136, 138, 139, 140, 141, 143, 146, 148, 150, 152, 156, 157, 158, 159, 160, 161, 162, 163, 164, 170, 173, 174, 175, 177, 178, 179, 182, 183, 184, 185, 186, 188, 189, 190, 191, 194, 195, 198, 200, 201, 202, 203, 205, 208, 212, 213, 216, 217, 218, 221, 223, 226, 230, 231, 232, 233, 235, 236, 241, 242, 244, 247, 248, 249, 250, 251, 252, 254, 258, 260, 264, 265, 268, 270, 271, 274, 281, 284, 288, 290, 294, 295, 298, 299, 301, 302, 305, 306, 308, 309, 310, 313, 315, 317, 321, 325, 330, 331, 332, 333, 334, 335, 336, 338, 342, 343, 344, 347, 349, 351, 352, 353, 355, 357, 359, 360, 362, 369, 374, 377, 384, 385, 386, 389, 392, 393, 394, 398, 399, 401, 403, 407, 408, 409, 412, 414, 415, 417, 418, 420, 421, 422, 423, 428, 429, 430, 431, 438, 439, 440, 443, 444, 448, 450, 451, 454, 456, 457, 458, 468, 471, 474, 476, 477, 478, 479, 480, 483, 486, 489, 490, 491, 492, 499, 503, 506, 510, 511, 512, 514, 515, 517, 518, 519, 521, 522, 523, 524, 525, 526, 531, 532, 534, 535, 537, 538, 544, 546, 547, 549, 550, 552, 553, 554, 555, 556, 557, 558, 559, 560, 564, 566, 567, 570, 572, 573, 574, 577, 578, 582, 583, 584, 585, 586, 587, 592, 593, 594, 595, 600, 603, 606, 608, 609, 613, 614, 615, 617, 619, 622, 623, 624, 628, 629, 631, 632, 636, 637, 638, 639, 640, 641, 643, 644, 646, 647, 648, 649, 651, 652, 653, 654, 655, 656, 658, 661, 663, 665, 669, 671, 673, 674, 678, 679, 680, 682, 690, 691, 692, 693, 695, 696, 697, 699, 700, 701, 703, 705, 707, 708, 712, 715, 716, 719, 722, 723, 726, 727, 728, 730, 732, 733, 734, 736, 737, 739, 740, 741, 742, 743, 744, 746, 747, 750, 752, 753, 756, 757, 758, 760, 762, 763, 764, 766, 773, 774, 776, 779, 780, 781, 782, 785, 790, 791, 792, 794, 795, 797, 799, 800, 804, 805, 808, 809, 810, 812, 813, 815, 820, 822, 823, 826, 827, 832, 838, 839, 843, 847, 848, 850, 851, 852, 853, 854, 864, 865, 866, 868, 870, 872, 874, 875, 877, 882, 884, 885, 887, 889, 890, 892, 893, 894, 895, 897, 898, 901, 903, 904, 906, 910, 911, 913, 915, 918, 919, 920, 922, 924, 925, 926, 927, 928, 930, 932, 934, 937, 938, 939, 940, 941, 943, 944, 945, 946, 949, 950, 951, 955, 959, 962, 963, 964, 968, 970, 971, 974, 975, 976, 977, 983, 986, 988, 990, 992, 993, 994, 996, 999, 1000, 1002, 1003, 1004, 1005, 1007, 1008, 1010, 1014, 1015, 1016]\n"
     ]
    }
   ],
   "source": [
    "# Question 2\n",
    "\n",
    "from math import gcd as bltin_gcd\n",
    "def primRoots(modulo):\n",
    "    required_set = {num for num in range(1, modulo) if bltin_gcd(num, modulo) }\n",
    "    return [g for g in range(1, modulo) if required_set == {pow(g, powers, modulo)\n",
    "            for powers in range(1, modulo)}]\n",
    "print(primRoots(1019))\n"
   ]
  },
  {
   "cell_type": "code",
   "execution_count": 9,
   "metadata": {},
   "outputs": [
    {
     "name": "stdout",
     "output_type": "stream",
     "text": [
      "Alice private key is 379679\n",
      "Bob private key is 244539\n",
      "\n",
      " p parameter is 3169, g parameter is 7 \n",
      "\n",
      "Alice public key is 404\n",
      "Bob public key is 1367\n",
      "\n",
      " Common secret: 1482 == 1482\n",
      "Time required: 48.47374129295349\n"
     ]
    }
   ],
   "source": [
    "from random import getrandbits\n",
    "from random import randint\n",
    "import sys\n",
    "\n",
    "def is_prime_calc(num):\n",
    "    return all(num % i for i in range(2, num))\n",
    "\n",
    "def is_prime(num):\n",
    "    return is_prime_calc(num)\n",
    "\n",
    "def get_random_prime():\n",
    "    while True:\n",
    "        n = getrandbits(12) + 3;\n",
    "        if is_prime(n):\n",
    "            return n\n",
    "\n",
    "def gcd(a,b):\n",
    "    while a != b:\n",
    "        if a > b:\n",
    "            a = a - b\n",
    "        else:\n",
    "            b = b - a\n",
    "    return a\n",
    "\n",
    "def primitive_root(modulo):\n",
    "    required_set = set(num for num in range (1, modulo) if gcd(num, modulo) == 1)\n",
    "    for g in range(1, modulo):\n",
    "        actual_set = set(pow(g, powers) % modulo for powers in range (1, modulo))\n",
    "        if required_set == actual_set:\n",
    "            return g\n",
    "\n",
    "# Generating private keys\n",
    "alice_private = randint(999, 999999)\n",
    "print ('Alice private key is %d' % alice_private)\n",
    "bob_private = randint(999, 999999)\n",
    "print ('Bob private key is %d' % bob_private)\n",
    "\n",
    "# Generating p-g parameters\n",
    "p = get_random_prime()\n",
    "g = primitive_root(p)\n",
    "\n",
    "print ('\\n p parameter is %d, g parameter is %d \\n' % (p, g))\n",
    "\n",
    "# Generating public keys\n",
    "alice_public = pow(g, alice_private) % p\n",
    "bob_public = pow(g, bob_private) % p\n",
    "\n",
    "print ('Alice public key is %d' % alice_public)\n",
    "print ('Bob public key is %d' % bob_public)\n",
    "\n",
    "alice_key = (pow(bob_public, alice_private)) % p\n",
    "bob_key = (pow(alice_public, bob_private)) % p\n",
    "\n",
    "print ('\\n Common secret: %d == %d' % (alice_key, bob_key))\n",
    "print(\"Time required:\", t1 - t0)\n"
   ]
  },
  {
   "cell_type": "code",
   "execution_count": 5,
   "metadata": {},
   "outputs": [
    {
     "name": "stdout",
     "output_type": "stream",
     "text": [
      "2\n",
      "-1\n"
     ]
    }
   ],
   "source": [
    "# Question 4\n",
    "\n",
    "import math; \n",
    "  \n",
    "def discreteLogarithm(a, b, m):  \n",
    "  \n",
    "    n = int(math.sqrt (m) + 1); \n",
    "  \n",
    "    # Calculate a ^ n  \n",
    "    an = 1; \n",
    "    for i in range(n): \n",
    "        an = (an * a) % m; \n",
    "  \n",
    "    value = [0] * m; \n",
    "  \n",
    "    # Store all values of a^(n*i) of LHS \n",
    "    cur = an; \n",
    "    for i in range(1, n + 1): \n",
    "        if (value[ cur ] == 0): \n",
    "            value[ cur ] = i; \n",
    "        cur = (cur * an) % m; \n",
    "      \n",
    "    cur = b; \n",
    "    for i in range(n + 1): \n",
    "          \n",
    "        # Calculate (a ^ j) * b and check \n",
    "        # for collision \n",
    "        if (value[cur] > 0): \n",
    "            ans = value[cur] * n - i; \n",
    "            if (ans < m): \n",
    "                return ans; \n",
    "        cur = (cur * a) % m; \n",
    "  \n",
    "    return -1; \n",
    "  \n",
    "# Driver code \n",
    "a = 200; \n",
    "b = 3; \n",
    "m = 5; \n",
    "print(discreteLogarithm(a, b, m)); \n",
    "  \n",
    "a = 350; \n",
    "b = 7; \n",
    "m = 11; \n",
    "print(discreteLogarithm(a, b, m));\n",
    "-"
   ]
  },
  {
   "cell_type": "code",
   "execution_count": 10,
   "metadata": {},
   "outputs": [
    {
     "name": "stdout",
     "output_type": "stream",
     "text": [
      "Enter the value of p = 23\n",
      "Enter the value of q = 9\n",
      "Enter the value of text = 9\n",
      "n = 207 e = 3 t = 176 d = 59 cipher text = 108 decrypted text = 9\n"
     ]
    }
   ],
   "source": [
    "# Question 5\n",
    "\n",
    "from decimal import Decimal \n",
    "  \n",
    "def gcd(a,b): \n",
    "    if b==0: \n",
    "        return a \n",
    "    else: \n",
    "        return gcd(b,a%b) \n",
    "p = int(input('Enter the value of p = ')) \n",
    "q = int(input('Enter the value of q = ')) \n",
    "no = int(input('Enter the value of text = ')) \n",
    "n = p*q \n",
    "t = (p-1)*(q-1) \n",
    "  \n",
    "for e in range(2,t): \n",
    "    if gcd(e,t)== 1: \n",
    "        break\n",
    "  \n",
    "  \n",
    "for i in range(1,10): \n",
    "    x = 1 + i*t \n",
    "    if x % e == 0: \n",
    "        d = int(x/e) \n",
    "        break\n",
    "ctt = Decimal(0) \n",
    "ctt =pow(no,e) \n",
    "ct = ctt % n \n",
    "  \n",
    "dtt = Decimal(0) \n",
    "dtt = pow(ct,d) \n",
    "dt = dtt % n \n",
    "  \n",
    "print('n = '+str(n)+' e = '+str(e)+' t = '+str(t)+' d = '+str(d)+' cipher text = '+str(ct)+' decrypted text = '+str(dt)) "
   ]
  },
  {
   "cell_type": "code",
   "execution_count": 11,
   "metadata": {},
   "outputs": [
    {
     "name": "stdout",
     "output_type": "stream",
     "text": [
      "Enter the value of p = 23\n",
      "Enter the value of q = 9\n",
      "Enter the value of text = 14\n",
      "n = 207 e = 3 t = 176 d = 59 cipher text = 53 decrypted text = 152\n"
     ]
    }
   ],
   "source": [
    "from decimal import Decimal \n",
    "  \n",
    "def gcd(a,b): \n",
    "    if b==0: \n",
    "        return a \n",
    "    else: \n",
    "        return gcd(b,a%b) \n",
    "p = int(input('Enter the value of p = ')) \n",
    "q = int(input('Enter the value of q = ')) \n",
    "no = int(input('Enter the value of text = ')) \n",
    "n = p*q \n",
    "t = (p-1)*(q-1) \n",
    "  \n",
    "for e in range(2,t): \n",
    "    if gcd(e,t)== 1: \n",
    "        break\n",
    "  \n",
    "  \n",
    "for i in range(1,10): \n",
    "    x = 1 + i*t \n",
    "    if x % e == 0: \n",
    "        d = int(x/e) \n",
    "        break\n",
    "ctt = Decimal(0) \n",
    "ctt =pow(no,e) \n",
    "ct = ctt % n \n",
    "  \n",
    "dtt = Decimal(0) \n",
    "dtt = pow(ct,d) \n",
    "dt = dtt % n \n",
    "  \n",
    "print('n = '+str(n)+' e = '+str(e)+' t = '+str(t)+' d = '+str(d)+' cipher text = '+str(ct)+' decrypted text = '+str(dt)) "
   ]
  },
  {
   "cell_type": "code",
   "execution_count": 12,
   "metadata": {},
   "outputs": [
    {
     "name": "stdout",
     "output_type": "stream",
     "text": [
      "Enter the value of p = 23\n",
      "Enter the value of q = 9\n",
      "Enter the value of text = 19\n",
      "n = 207 e = 3 t = 176 d = 59 cipher text = 28 decrypted text = 19\n"
     ]
    }
   ],
   "source": [
    "from decimal import Decimal \n",
    "  \n",
    "def gcd(a,b): \n",
    "    if b==0: \n",
    "        return a \n",
    "    else: \n",
    "        return gcd(b,a%b) \n",
    "p = int(input('Enter the value of p = ')) \n",
    "q = int(input('Enter the value of q = ')) \n",
    "no = int(input('Enter the value of text = ')) \n",
    "n = p*q \n",
    "t = (p-1)*(q-1) \n",
    "  \n",
    "for e in range(2,t): \n",
    "    if gcd(e,t)== 1: \n",
    "        break\n",
    "  \n",
    "  \n",
    "for i in range(1,10): \n",
    "    x = 1 + i*t \n",
    "    if x % e == 0: \n",
    "        d = int(x/e) \n",
    "        break\n",
    "ctt = Decimal(0) \n",
    "ctt =pow(no,e) \n",
    "ct = ctt % n \n",
    "  \n",
    "dtt = Decimal(0) \n",
    "dtt = pow(ct,d) \n",
    "dt = dtt % n \n",
    "  \n",
    "print('n = '+str(n)+' e = '+str(e)+' t = '+str(t)+' d = '+str(d)+' cipher text = '+str(ct)+' decrypted text = '+str(dt)) "
   ]
  },
  {
   "cell_type": "code",
   "execution_count": null,
   "metadata": {},
   "outputs": [],
   "source": []
  }
 ],
 "metadata": {
  "kernelspec": {
   "display_name": "Python 3",
   "language": "python",
   "name": "python3"
  },
  "language_info": {
   "codemirror_mode": {
    "name": "ipython",
    "version": 3
   },
   "file_extension": ".py",
   "mimetype": "text/x-python",
   "name": "python",
   "nbconvert_exporter": "python",
   "pygments_lexer": "ipython3",
   "version": "3.7.6"
  }
 },
 "nbformat": 4,
 "nbformat_minor": 4
}
